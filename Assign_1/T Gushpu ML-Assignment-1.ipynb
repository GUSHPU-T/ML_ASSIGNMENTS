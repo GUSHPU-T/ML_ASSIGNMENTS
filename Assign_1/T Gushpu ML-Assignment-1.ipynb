{
 "cells": [
  {
   "cell_type": "code",
   "execution_count": 1,
   "id": "76dd3a49",
   "metadata": {},
   "outputs": [],
   "source": [
    "import numpy as np\n",
    "import pandas as pd\n",
    "import matplotlib.pyplot as plt"
   ]
  },
  {
   "cell_type": "code",
   "execution_count": 2,
   "id": "ceac36d8",
   "metadata": {},
   "outputs": [],
   "source": [
    "df=pd.read_csv(r\"C:\\T Gushpu\\dataset_Assignment-1_ML.csv\")"
   ]
  },
  {
   "cell_type": "code",
   "execution_count": 3,
   "id": "d3627c1e",
   "metadata": {},
   "outputs": [
    {
     "data": {
      "text/html": [
       "<div>\n",
       "<style scoped>\n",
       "    .dataframe tbody tr th:only-of-type {\n",
       "        vertical-align: middle;\n",
       "    }\n",
       "\n",
       "    .dataframe tbody tr th {\n",
       "        vertical-align: top;\n",
       "    }\n",
       "\n",
       "    .dataframe thead th {\n",
       "        text-align: right;\n",
       "    }\n",
       "</style>\n",
       "<table border=\"1\" class=\"dataframe\">\n",
       "  <thead>\n",
       "    <tr style=\"text-align: right;\">\n",
       "      <th></th>\n",
       "      <th>car_ID</th>\n",
       "      <th>symboling</th>\n",
       "      <th>CarName</th>\n",
       "      <th>fueltype</th>\n",
       "      <th>aspiration</th>\n",
       "      <th>doornumber</th>\n",
       "      <th>carbody</th>\n",
       "      <th>drivewheel</th>\n",
       "      <th>wheelbase</th>\n",
       "      <th>carlength</th>\n",
       "      <th>...</th>\n",
       "      <th>enginesize</th>\n",
       "      <th>fuelsystem</th>\n",
       "      <th>boreratio</th>\n",
       "      <th>stroke</th>\n",
       "      <th>compressionratio</th>\n",
       "      <th>horsepower</th>\n",
       "      <th>peakrpm</th>\n",
       "      <th>citympg</th>\n",
       "      <th>highwaympg</th>\n",
       "      <th>price</th>\n",
       "    </tr>\n",
       "  </thead>\n",
       "  <tbody>\n",
       "    <tr>\n",
       "      <th>0</th>\n",
       "      <td>1</td>\n",
       "      <td>3</td>\n",
       "      <td>alfa-romero giulia</td>\n",
       "      <td>gas</td>\n",
       "      <td>std</td>\n",
       "      <td>two</td>\n",
       "      <td>convertible</td>\n",
       "      <td>rwd</td>\n",
       "      <td>88.6</td>\n",
       "      <td>168.8</td>\n",
       "      <td>...</td>\n",
       "      <td>130.0</td>\n",
       "      <td>mpfi</td>\n",
       "      <td>3.47</td>\n",
       "      <td>2.68</td>\n",
       "      <td>9.0</td>\n",
       "      <td>111</td>\n",
       "      <td>5000</td>\n",
       "      <td>21.0</td>\n",
       "      <td>27.0</td>\n",
       "      <td>13495.0</td>\n",
       "    </tr>\n",
       "    <tr>\n",
       "      <th>1</th>\n",
       "      <td>2</td>\n",
       "      <td>3</td>\n",
       "      <td>alfa-romero stelvio</td>\n",
       "      <td>gas</td>\n",
       "      <td>std</td>\n",
       "      <td>two</td>\n",
       "      <td>convertible</td>\n",
       "      <td>rwd</td>\n",
       "      <td>88.6</td>\n",
       "      <td>168.8</td>\n",
       "      <td>...</td>\n",
       "      <td>130.0</td>\n",
       "      <td>mpfi</td>\n",
       "      <td>3.47</td>\n",
       "      <td>2.68</td>\n",
       "      <td>9.0</td>\n",
       "      <td>111</td>\n",
       "      <td>5000</td>\n",
       "      <td>21.0</td>\n",
       "      <td>27.0</td>\n",
       "      <td>16500.0</td>\n",
       "    </tr>\n",
       "    <tr>\n",
       "      <th>2</th>\n",
       "      <td>3</td>\n",
       "      <td>1</td>\n",
       "      <td>alfa-romero Quadrifoglio</td>\n",
       "      <td>gas</td>\n",
       "      <td>std</td>\n",
       "      <td>two</td>\n",
       "      <td>hatchback</td>\n",
       "      <td>rwd</td>\n",
       "      <td>94.5</td>\n",
       "      <td>171.2</td>\n",
       "      <td>...</td>\n",
       "      <td>152.0</td>\n",
       "      <td>mpfi</td>\n",
       "      <td>2.68</td>\n",
       "      <td>3.47</td>\n",
       "      <td>9.0</td>\n",
       "      <td>154</td>\n",
       "      <td>5000</td>\n",
       "      <td>19.0</td>\n",
       "      <td>26.0</td>\n",
       "      <td>16500.0</td>\n",
       "    </tr>\n",
       "    <tr>\n",
       "      <th>3</th>\n",
       "      <td>4</td>\n",
       "      <td>2</td>\n",
       "      <td>audi 100 ls</td>\n",
       "      <td>gas</td>\n",
       "      <td>std</td>\n",
       "      <td>four</td>\n",
       "      <td>sedan</td>\n",
       "      <td>fwd</td>\n",
       "      <td>99.8</td>\n",
       "      <td>176.6</td>\n",
       "      <td>...</td>\n",
       "      <td>109.0</td>\n",
       "      <td>mpfi</td>\n",
       "      <td>3.19</td>\n",
       "      <td>3.40</td>\n",
       "      <td>10.0</td>\n",
       "      <td>102</td>\n",
       "      <td>5500</td>\n",
       "      <td>24.0</td>\n",
       "      <td>30.0</td>\n",
       "      <td>13950.0</td>\n",
       "    </tr>\n",
       "    <tr>\n",
       "      <th>4</th>\n",
       "      <td>5</td>\n",
       "      <td>2</td>\n",
       "      <td>audi 100ls</td>\n",
       "      <td>gas</td>\n",
       "      <td>std</td>\n",
       "      <td>four</td>\n",
       "      <td>sedan</td>\n",
       "      <td>4wd</td>\n",
       "      <td>99.4</td>\n",
       "      <td>176.6</td>\n",
       "      <td>...</td>\n",
       "      <td>136.0</td>\n",
       "      <td>mpfi</td>\n",
       "      <td>3.19</td>\n",
       "      <td>3.40</td>\n",
       "      <td>8.0</td>\n",
       "      <td>115</td>\n",
       "      <td>5500</td>\n",
       "      <td>18.0</td>\n",
       "      <td>22.0</td>\n",
       "      <td>17450.0</td>\n",
       "    </tr>\n",
       "  </tbody>\n",
       "</table>\n",
       "<p>5 rows × 25 columns</p>\n",
       "</div>"
      ],
      "text/plain": [
       "   car_ID  symboling                   CarName fueltype aspiration doornumber  \\\n",
       "0       1          3        alfa-romero giulia      gas        std        two   \n",
       "1       2          3       alfa-romero stelvio      gas        std        two   \n",
       "2       3          1  alfa-romero Quadrifoglio      gas        std        two   \n",
       "3       4          2               audi 100 ls      gas        std       four   \n",
       "4       5          2                audi 100ls      gas        std       four   \n",
       "\n",
       "       carbody drivewheel  wheelbase  carlength  ...  enginesize  fuelsystem  \\\n",
       "0  convertible        rwd       88.6      168.8  ...       130.0        mpfi   \n",
       "1  convertible        rwd       88.6      168.8  ...       130.0        mpfi   \n",
       "2    hatchback        rwd       94.5      171.2  ...       152.0        mpfi   \n",
       "3        sedan        fwd       99.8      176.6  ...       109.0        mpfi   \n",
       "4        sedan        4wd       99.4      176.6  ...       136.0        mpfi   \n",
       "\n",
       "   boreratio stroke compressionratio  horsepower peakrpm  citympg  highwaympg  \\\n",
       "0       3.47   2.68              9.0         111    5000     21.0        27.0   \n",
       "1       3.47   2.68              9.0         111    5000     21.0        27.0   \n",
       "2       2.68   3.47              9.0         154    5000     19.0        26.0   \n",
       "3       3.19   3.40             10.0         102    5500     24.0        30.0   \n",
       "4       3.19   3.40              8.0         115    5500     18.0        22.0   \n",
       "\n",
       "     price  \n",
       "0  13495.0  \n",
       "1  16500.0  \n",
       "2  16500.0  \n",
       "3  13950.0  \n",
       "4  17450.0  \n",
       "\n",
       "[5 rows x 25 columns]"
      ]
     },
     "execution_count": 3,
     "metadata": {},
     "output_type": "execute_result"
    }
   ],
   "source": [
    "df.head()"
   ]
  },
  {
   "cell_type": "markdown",
   "id": "d11c7781",
   "metadata": {},
   "source": [
    "# ABOUT THE DATASET:\n",
    "\n",
    "**Brand Name**: The 'CarName' column can provide insights into the brand of the car, which can significantly affect its price. Some brands are known for their high-quality and luxury cars and can charge a premium price for their used cars. In contrast, lesser-known brands or brands associated with lower quality may have lower prices for their used cars.\n",
    "\n",
    "**Technical Specifications**: Technical specifications such as engine size, horsepower, and fuel efficiency (citympg and highwaympg) can affect the pricing of used cars. These features can impact the performance and efficiency of the car, which can influence the price.\n",
    "\n",
    "**Car Type**: The 'carbody' column can provide insights into the type of car, such as a sedan, coupe, or wagon. The car's body type can affect the car's utility and appeal, which can impact its price.\n",
    "\n",
    "**Fuel Type and Fuel System**: The 'fueltype' and 'fuelsystem' columns can provide insights into the type of fuel and fuel system used by the car. Certain types of fuel and fuel systems can be more expensive or less efficient than others, which can impact the car's price.\n",
    "\n",
    "**Car Condition**: The 'curbweight' column can provide insights into the car's weight, which can impact its performance and efficiency. Additionally, the car's overall condition, such as its age and mileage, can also affect its price."
   ]
  },
  {
   "cell_type": "markdown",
   "id": "8db65abd",
   "metadata": {},
   "source": [
    "# PROBLEM STATEMENT:\n",
    "\n",
    "To understand the factors on which the pricing of used cars depends.  The company wants to know:\n",
    "\n",
    "a.\tWhich variables are significant in predicting the price of a used car?\n",
    "\n",
    "b.\tHow well those variables describe the price of a used car.\n",
    "\n",
    "To build the model to predict or estimate the price of used cars with the available features. It will be used by the management to understand how exactly the prices vary with these features. They can accordingly apply the pricing strategy for their used cars.\n"
   ]
  },
  {
   "cell_type": "markdown",
   "id": "24d25d60",
   "metadata": {},
   "source": [
    "# APPROACH TO THE SOLUTION\n",
    "\n",
    "**a**. The variables that are significant in predicting the price of a used car can be identified through feature selection techniques such as correlation analysis, feature importance, and recursive feature elimination. \n",
    "    \n",
    "   Some of the variables that may affect the price of used cars include the age of the car, mileage, brand, model, fuel type, engine size, transmission type, number of owners, service history, and condition of the car. \n",
    "    \n",
    "   These variables may vary in their impact on the price of used cars depending on the market, so it is essential to consider the specific market (i.e., EU) when building the model.\n",
    "\n",
    "**b**. To determine how well the variables describe the price of a used car, we can use metrics such as R-squared, mean absolute error (MAE), and mean squared error (MSE) to evaluate the performance of the regression model. \n",
    "    \n",
    "   These metrics can help us understand how well the model fits the data and how accurate the predictions are. \n",
    "    \n",
    "   Additionally, we can use cross-validation to evaluate the model's performance on different sets of data and ensure that the model is not overfitting to the training data."
   ]
  },
  {
   "cell_type": "code",
   "execution_count": 4,
   "id": "bd9be9fc",
   "metadata": {},
   "outputs": [
    {
     "data": {
      "text/plain": [
       "(205, 25)"
      ]
     },
     "execution_count": 4,
     "metadata": {},
     "output_type": "execute_result"
    }
   ],
   "source": [
    "df.shape"
   ]
  },
  {
   "cell_type": "markdown",
   "id": "d9a621c6",
   "metadata": {},
   "source": [
    "205 - Rows and 25- Columns"
   ]
  },
  {
   "cell_type": "code",
   "execution_count": 5,
   "id": "37fee227",
   "metadata": {},
   "outputs": [
    {
     "name": "stdout",
     "output_type": "stream",
     "text": [
      "<class 'pandas.core.frame.DataFrame'>\n",
      "RangeIndex: 205 entries, 0 to 204\n",
      "Data columns (total 25 columns):\n",
      " #   Column            Non-Null Count  Dtype  \n",
      "---  ------            --------------  -----  \n",
      " 0   car_ID            205 non-null    int64  \n",
      " 1   symboling         205 non-null    int64  \n",
      " 2   CarName           205 non-null    object \n",
      " 3   fueltype          200 non-null    object \n",
      " 4   aspiration        203 non-null    object \n",
      " 5   doornumber        202 non-null    object \n",
      " 6   carbody           205 non-null    object \n",
      " 7   drivewheel        198 non-null    object \n",
      " 8   wheelbase         202 non-null    float64\n",
      " 9   carlength         202 non-null    float64\n",
      " 10  carwidth          200 non-null    float64\n",
      " 11  carheight         198 non-null    float64\n",
      " 12  curbweight        205 non-null    int64  \n",
      " 13  enginetype        205 non-null    object \n",
      " 14  cylindernumber    201 non-null    object \n",
      " 15  enginesize        199 non-null    float64\n",
      " 16  fuelsystem        197 non-null    object \n",
      " 17  boreratio         201 non-null    float64\n",
      " 18  stroke            195 non-null    float64\n",
      " 19  compressionratio  201 non-null    float64\n",
      " 20  horsepower        205 non-null    int64  \n",
      " 21  peakrpm           205 non-null    int64  \n",
      " 22  citympg           193 non-null    float64\n",
      " 23  highwaympg        196 non-null    float64\n",
      " 24  price             205 non-null    float64\n",
      "dtypes: float64(11), int64(5), object(9)\n",
      "memory usage: 40.2+ KB\n"
     ]
    }
   ],
   "source": [
    "df.info()"
   ]
  },
  {
   "cell_type": "code",
   "execution_count": 6,
   "id": "7cae52d4",
   "metadata": {},
   "outputs": [
    {
     "data": {
      "text/plain": [
       "0"
      ]
     },
     "execution_count": 6,
     "metadata": {},
     "output_type": "execute_result"
    }
   ],
   "source": [
    "df.duplicated().sum()"
   ]
  },
  {
   "cell_type": "code",
   "execution_count": 7,
   "id": "7fbc803d",
   "metadata": {},
   "outputs": [
    {
     "data": {
      "text/plain": [
       "car_ID               0\n",
       "symboling            0\n",
       "CarName              0\n",
       "fueltype             5\n",
       "aspiration           2\n",
       "doornumber           3\n",
       "carbody              0\n",
       "drivewheel           7\n",
       "wheelbase            3\n",
       "carlength            3\n",
       "carwidth             5\n",
       "carheight            7\n",
       "curbweight           0\n",
       "enginetype           0\n",
       "cylindernumber       4\n",
       "enginesize           6\n",
       "fuelsystem           8\n",
       "boreratio            4\n",
       "stroke              10\n",
       "compressionratio     4\n",
       "horsepower           0\n",
       "peakrpm              0\n",
       "citympg             12\n",
       "highwaympg           9\n",
       "price                0\n",
       "dtype: int64"
      ]
     },
     "execution_count": 7,
     "metadata": {},
     "output_type": "execute_result"
    }
   ],
   "source": [
    "df.isnull().sum()"
   ]
  },
  {
   "cell_type": "markdown",
   "id": "41b03d0e",
   "metadata": {},
   "source": [
    "# TREATING MISSING VALUES"
   ]
  },
  {
   "cell_type": "markdown",
   "id": "dc757902",
   "metadata": {},
   "source": [
    "FOR NUMERICAL"
   ]
  },
  {
   "cell_type": "code",
   "execution_count": 8,
   "id": "5adfe4a0",
   "metadata": {},
   "outputs": [],
   "source": [
    "df['citympg'].fillna(df['citympg'].median(),inplace=True)\n",
    "df['stroke'].fillna(df['stroke'].median(),inplace=True)\n",
    "df['highwaympg'].fillna(df['highwaympg'].median(),inplace=True)\n",
    "df['carheight'].fillna(df['carheight'].median(),inplace=True)\n",
    "df['enginesize'].fillna(df['enginesize'].median(),inplace=True)\n",
    "df['carwidth'].fillna(df['carwidth'].median(),inplace=True)\n",
    "df['boreratio'].fillna(df['boreratio'].median(),inplace=True)\n",
    "df['compressionratio'].fillna(df['compressionratio'].median(),inplace=True)\n",
    "df['wheelbase'].fillna(df['wheelbase'].median(),inplace=True)\n",
    "df['carlength'].fillna(df['carlength'].median(),inplace=True)\n"
   ]
  },
  {
   "cell_type": "markdown",
   "id": "69e8ffd8",
   "metadata": {},
   "source": [
    "FOR CATAGORICAL"
   ]
  },
  {
   "cell_type": "code",
   "execution_count": 9,
   "id": "580137f3",
   "metadata": {},
   "outputs": [],
   "source": [
    "df['fuelsystem'] = df['fuelsystem'].fillna(df['fuelsystem'].mode()[0])\n",
    "df['drivewheel'] = df['drivewheel'].fillna(df['drivewheel'].mode()[0])\n",
    "df['fueltype'] = df['fueltype'].fillna(df['fueltype'].mode()[0])\n",
    "df['cylindernumber'] = df['cylindernumber'].fillna(df['cylindernumber'].mode()[0])\n",
    "df['doornumber'] = df['doornumber'].fillna(df['doornumber'].mode()[0])\n",
    "df['aspiration'] = df['aspiration'].fillna(df['aspiration'].mode()[0])"
   ]
  },
  {
   "cell_type": "code",
   "execution_count": 10,
   "id": "791a6d93",
   "metadata": {},
   "outputs": [
    {
     "data": {
      "text/plain": [
       "car_ID              0\n",
       "symboling           0\n",
       "CarName             0\n",
       "fueltype            0\n",
       "aspiration          0\n",
       "doornumber          0\n",
       "carbody             0\n",
       "drivewheel          0\n",
       "wheelbase           0\n",
       "carlength           0\n",
       "carwidth            0\n",
       "carheight           0\n",
       "curbweight          0\n",
       "enginetype          0\n",
       "cylindernumber      0\n",
       "enginesize          0\n",
       "fuelsystem          0\n",
       "boreratio           0\n",
       "stroke              0\n",
       "compressionratio    0\n",
       "horsepower          0\n",
       "peakrpm             0\n",
       "citympg             0\n",
       "highwaympg          0\n",
       "price               0\n",
       "dtype: int64"
      ]
     },
     "execution_count": 10,
     "metadata": {},
     "output_type": "execute_result"
    }
   ],
   "source": [
    "df.isnull().sum()"
   ]
  },
  {
   "cell_type": "markdown",
   "id": "f837c3d2",
   "metadata": {},
   "source": [
    "Missing values are treated and can be used for building the model."
   ]
  },
  {
   "cell_type": "code",
   "execution_count": 11,
   "id": "6853adcc",
   "metadata": {},
   "outputs": [],
   "source": [
    "from sklearn.preprocessing import MinMaxScaler,StandardScaler,LabelEncoder,RobustScaler"
   ]
  },
  {
   "cell_type": "code",
   "execution_count": 12,
   "id": "b96b209b",
   "metadata": {},
   "outputs": [],
   "source": [
    "df1 = df.copy()"
   ]
  },
  {
   "cell_type": "code",
   "execution_count": 13,
   "id": "521c08c3",
   "metadata": {},
   "outputs": [
    {
     "name": "stderr",
     "output_type": "stream",
     "text": [
      "C:\\Users\\kushp\\anaconda3\\New folder (2)\\lib\\site-packages\\sklearn\\preprocessing\\_label.py:115: DataConversionWarning: A column-vector y was passed when a 1d array was expected. Please change the shape of y to (n_samples, ), for example using ravel().\n",
      "  y = column_or_1d(y, warn=True)\n"
     ]
    }
   ],
   "source": [
    "le=LabelEncoder()\n",
    "for i in ['CarName','fueltype','aspiration','doornumber','carbody','drivewheel','enginetype','cylindernumber','fuelsystem']:\n",
    "    df1[i]=le.fit_transform(df1[i].values.reshape(-1,1))"
   ]
  },
  {
   "cell_type": "code",
   "execution_count": 14,
   "id": "0a246584",
   "metadata": {},
   "outputs": [
    {
     "data": {
      "text/html": [
       "<div>\n",
       "<style scoped>\n",
       "    .dataframe tbody tr th:only-of-type {\n",
       "        vertical-align: middle;\n",
       "    }\n",
       "\n",
       "    .dataframe tbody tr th {\n",
       "        vertical-align: top;\n",
       "    }\n",
       "\n",
       "    .dataframe thead th {\n",
       "        text-align: right;\n",
       "    }\n",
       "</style>\n",
       "<table border=\"1\" class=\"dataframe\">\n",
       "  <thead>\n",
       "    <tr style=\"text-align: right;\">\n",
       "      <th></th>\n",
       "      <th>car_ID</th>\n",
       "      <th>symboling</th>\n",
       "      <th>CarName</th>\n",
       "      <th>fueltype</th>\n",
       "      <th>aspiration</th>\n",
       "      <th>doornumber</th>\n",
       "      <th>carbody</th>\n",
       "      <th>drivewheel</th>\n",
       "      <th>wheelbase</th>\n",
       "      <th>carlength</th>\n",
       "      <th>...</th>\n",
       "      <th>enginesize</th>\n",
       "      <th>fuelsystem</th>\n",
       "      <th>boreratio</th>\n",
       "      <th>stroke</th>\n",
       "      <th>compressionratio</th>\n",
       "      <th>horsepower</th>\n",
       "      <th>peakrpm</th>\n",
       "      <th>citympg</th>\n",
       "      <th>highwaympg</th>\n",
       "      <th>price</th>\n",
       "    </tr>\n",
       "  </thead>\n",
       "  <tbody>\n",
       "    <tr>\n",
       "      <th>0</th>\n",
       "      <td>1</td>\n",
       "      <td>3</td>\n",
       "      <td>2</td>\n",
       "      <td>1</td>\n",
       "      <td>0</td>\n",
       "      <td>1</td>\n",
       "      <td>0</td>\n",
       "      <td>2</td>\n",
       "      <td>88.6</td>\n",
       "      <td>168.8</td>\n",
       "      <td>...</td>\n",
       "      <td>130.0</td>\n",
       "      <td>5</td>\n",
       "      <td>3.47</td>\n",
       "      <td>2.68</td>\n",
       "      <td>9.0</td>\n",
       "      <td>111</td>\n",
       "      <td>5000</td>\n",
       "      <td>21.0</td>\n",
       "      <td>27.0</td>\n",
       "      <td>13495.0</td>\n",
       "    </tr>\n",
       "    <tr>\n",
       "      <th>1</th>\n",
       "      <td>2</td>\n",
       "      <td>3</td>\n",
       "      <td>3</td>\n",
       "      <td>1</td>\n",
       "      <td>0</td>\n",
       "      <td>1</td>\n",
       "      <td>0</td>\n",
       "      <td>2</td>\n",
       "      <td>88.6</td>\n",
       "      <td>168.8</td>\n",
       "      <td>...</td>\n",
       "      <td>130.0</td>\n",
       "      <td>5</td>\n",
       "      <td>3.47</td>\n",
       "      <td>2.68</td>\n",
       "      <td>9.0</td>\n",
       "      <td>111</td>\n",
       "      <td>5000</td>\n",
       "      <td>21.0</td>\n",
       "      <td>27.0</td>\n",
       "      <td>16500.0</td>\n",
       "    </tr>\n",
       "    <tr>\n",
       "      <th>2</th>\n",
       "      <td>3</td>\n",
       "      <td>1</td>\n",
       "      <td>1</td>\n",
       "      <td>1</td>\n",
       "      <td>0</td>\n",
       "      <td>1</td>\n",
       "      <td>2</td>\n",
       "      <td>2</td>\n",
       "      <td>94.5</td>\n",
       "      <td>171.2</td>\n",
       "      <td>...</td>\n",
       "      <td>152.0</td>\n",
       "      <td>5</td>\n",
       "      <td>2.68</td>\n",
       "      <td>3.47</td>\n",
       "      <td>9.0</td>\n",
       "      <td>154</td>\n",
       "      <td>5000</td>\n",
       "      <td>19.0</td>\n",
       "      <td>26.0</td>\n",
       "      <td>16500.0</td>\n",
       "    </tr>\n",
       "    <tr>\n",
       "      <th>3</th>\n",
       "      <td>4</td>\n",
       "      <td>2</td>\n",
       "      <td>4</td>\n",
       "      <td>1</td>\n",
       "      <td>0</td>\n",
       "      <td>0</td>\n",
       "      <td>3</td>\n",
       "      <td>1</td>\n",
       "      <td>99.8</td>\n",
       "      <td>176.6</td>\n",
       "      <td>...</td>\n",
       "      <td>109.0</td>\n",
       "      <td>5</td>\n",
       "      <td>3.19</td>\n",
       "      <td>3.40</td>\n",
       "      <td>10.0</td>\n",
       "      <td>102</td>\n",
       "      <td>5500</td>\n",
       "      <td>24.0</td>\n",
       "      <td>30.0</td>\n",
       "      <td>13950.0</td>\n",
       "    </tr>\n",
       "    <tr>\n",
       "      <th>4</th>\n",
       "      <td>5</td>\n",
       "      <td>2</td>\n",
       "      <td>5</td>\n",
       "      <td>1</td>\n",
       "      <td>0</td>\n",
       "      <td>0</td>\n",
       "      <td>3</td>\n",
       "      <td>0</td>\n",
       "      <td>99.4</td>\n",
       "      <td>176.6</td>\n",
       "      <td>...</td>\n",
       "      <td>136.0</td>\n",
       "      <td>5</td>\n",
       "      <td>3.19</td>\n",
       "      <td>3.40</td>\n",
       "      <td>8.0</td>\n",
       "      <td>115</td>\n",
       "      <td>5500</td>\n",
       "      <td>18.0</td>\n",
       "      <td>22.0</td>\n",
       "      <td>17450.0</td>\n",
       "    </tr>\n",
       "  </tbody>\n",
       "</table>\n",
       "<p>5 rows × 25 columns</p>\n",
       "</div>"
      ],
      "text/plain": [
       "   car_ID  symboling  CarName  fueltype  aspiration  doornumber  carbody  \\\n",
       "0       1          3        2         1           0           1        0   \n",
       "1       2          3        3         1           0           1        0   \n",
       "2       3          1        1         1           0           1        2   \n",
       "3       4          2        4         1           0           0        3   \n",
       "4       5          2        5         1           0           0        3   \n",
       "\n",
       "   drivewheel  wheelbase  carlength  ...  enginesize  fuelsystem  boreratio  \\\n",
       "0           2       88.6      168.8  ...       130.0           5       3.47   \n",
       "1           2       88.6      168.8  ...       130.0           5       3.47   \n",
       "2           2       94.5      171.2  ...       152.0           5       2.68   \n",
       "3           1       99.8      176.6  ...       109.0           5       3.19   \n",
       "4           0       99.4      176.6  ...       136.0           5       3.19   \n",
       "\n",
       "   stroke  compressionratio  horsepower  peakrpm  citympg  highwaympg    price  \n",
       "0    2.68               9.0         111     5000     21.0        27.0  13495.0  \n",
       "1    2.68               9.0         111     5000     21.0        27.0  16500.0  \n",
       "2    3.47               9.0         154     5000     19.0        26.0  16500.0  \n",
       "3    3.40              10.0         102     5500     24.0        30.0  13950.0  \n",
       "4    3.40               8.0         115     5500     18.0        22.0  17450.0  \n",
       "\n",
       "[5 rows x 25 columns]"
      ]
     },
     "execution_count": 14,
     "metadata": {},
     "output_type": "execute_result"
    }
   ],
   "source": [
    "df1.head()"
   ]
  },
  {
   "cell_type": "code",
   "execution_count": 15,
   "id": "c8782b4d",
   "metadata": {},
   "outputs": [],
   "source": [
    "rs=RobustScaler()\n",
    "sc=StandardScaler()\n",
    "minmax=MinMaxScaler()\n",
    "for i in ['wheelbase','carlength','carwidth','carheight','curbweight','enginesize','boreratio','stroke','compressionratio','horsepower','peakrpm','citympg','highwaympg','price']:\n",
    "    df1[i]=minmax.fit_transform(df1[i].values.reshape(-1,1))"
   ]
  },
  {
   "cell_type": "code",
   "execution_count": 16,
   "id": "1a93727d",
   "metadata": {},
   "outputs": [],
   "source": [
    "X=df1.drop('price',axis=1)\n",
    "y=df1['price']"
   ]
  },
  {
   "cell_type": "markdown",
   "id": "4722ec6e",
   "metadata": {},
   "source": [
    "# MODEL BUILDING"
   ]
  },
  {
   "cell_type": "code",
   "execution_count": 17,
   "id": "ac6a2e37",
   "metadata": {},
   "outputs": [],
   "source": [
    "from sklearn.model_selection import train_test_split"
   ]
  },
  {
   "cell_type": "code",
   "execution_count": 18,
   "id": "58eaf827",
   "metadata": {},
   "outputs": [],
   "source": [
    "xtrain,xtest,ytrain,ytest=train_test_split(X,y,test_size=0.2,random_state=35)"
   ]
  },
  {
   "cell_type": "code",
   "execution_count": 19,
   "id": "79e61e23",
   "metadata": {},
   "outputs": [
    {
     "data": {
      "text/html": [
       "<div>\n",
       "<style scoped>\n",
       "    .dataframe tbody tr th:only-of-type {\n",
       "        vertical-align: middle;\n",
       "    }\n",
       "\n",
       "    .dataframe tbody tr th {\n",
       "        vertical-align: top;\n",
       "    }\n",
       "\n",
       "    .dataframe thead th {\n",
       "        text-align: right;\n",
       "    }\n",
       "</style>\n",
       "<table border=\"1\" class=\"dataframe\">\n",
       "  <thead>\n",
       "    <tr style=\"text-align: right;\">\n",
       "      <th></th>\n",
       "      <th>car_ID</th>\n",
       "      <th>symboling</th>\n",
       "      <th>CarName</th>\n",
       "      <th>fueltype</th>\n",
       "      <th>aspiration</th>\n",
       "      <th>doornumber</th>\n",
       "      <th>carbody</th>\n",
       "      <th>drivewheel</th>\n",
       "      <th>wheelbase</th>\n",
       "      <th>carlength</th>\n",
       "      <th>...</th>\n",
       "      <th>cylindernumber</th>\n",
       "      <th>enginesize</th>\n",
       "      <th>fuelsystem</th>\n",
       "      <th>boreratio</th>\n",
       "      <th>stroke</th>\n",
       "      <th>compressionratio</th>\n",
       "      <th>horsepower</th>\n",
       "      <th>peakrpm</th>\n",
       "      <th>citympg</th>\n",
       "      <th>highwaympg</th>\n",
       "    </tr>\n",
       "  </thead>\n",
       "  <tbody>\n",
       "    <tr>\n",
       "      <th>38</th>\n",
       "      <td>39</td>\n",
       "      <td>0</td>\n",
       "      <td>41</td>\n",
       "      <td>1</td>\n",
       "      <td>0</td>\n",
       "      <td>1</td>\n",
       "      <td>2</td>\n",
       "      <td>1</td>\n",
       "      <td>0.288630</td>\n",
       "      <td>0.394030</td>\n",
       "      <td>...</td>\n",
       "      <td>2</td>\n",
       "      <td>0.184906</td>\n",
       "      <td>0</td>\n",
       "      <td>0.435714</td>\n",
       "      <td>0.719048</td>\n",
       "      <td>0.1250</td>\n",
       "      <td>0.158333</td>\n",
       "      <td>0.673469</td>\n",
       "      <td>0.411765</td>\n",
       "      <td>0.447368</td>\n",
       "    </tr>\n",
       "    <tr>\n",
       "      <th>64</th>\n",
       "      <td>65</td>\n",
       "      <td>0</td>\n",
       "      <td>53</td>\n",
       "      <td>1</td>\n",
       "      <td>0</td>\n",
       "      <td>0</td>\n",
       "      <td>2</td>\n",
       "      <td>1</td>\n",
       "      <td>0.355685</td>\n",
       "      <td>0.547761</td>\n",
       "      <td>...</td>\n",
       "      <td>2</td>\n",
       "      <td>0.230189</td>\n",
       "      <td>1</td>\n",
       "      <td>0.607143</td>\n",
       "      <td>0.628571</td>\n",
       "      <td>0.1000</td>\n",
       "      <td>0.150000</td>\n",
       "      <td>0.265306</td>\n",
       "      <td>0.382353</td>\n",
       "      <td>0.421053</td>\n",
       "    </tr>\n",
       "    <tr>\n",
       "      <th>146</th>\n",
       "      <td>147</td>\n",
       "      <td>0</td>\n",
       "      <td>110</td>\n",
       "      <td>1</td>\n",
       "      <td>0</td>\n",
       "      <td>0</td>\n",
       "      <td>4</td>\n",
       "      <td>1</td>\n",
       "      <td>0.303207</td>\n",
       "      <td>0.483582</td>\n",
       "      <td>...</td>\n",
       "      <td>2</td>\n",
       "      <td>0.177358</td>\n",
       "      <td>1</td>\n",
       "      <td>0.771429</td>\n",
       "      <td>0.271429</td>\n",
       "      <td>0.1250</td>\n",
       "      <td>0.141667</td>\n",
       "      <td>0.265306</td>\n",
       "      <td>0.441176</td>\n",
       "      <td>0.421053</td>\n",
       "    </tr>\n",
       "    <tr>\n",
       "      <th>96</th>\n",
       "      <td>97</td>\n",
       "      <td>1</td>\n",
       "      <td>76</td>\n",
       "      <td>1</td>\n",
       "      <td>0</td>\n",
       "      <td>0</td>\n",
       "      <td>3</td>\n",
       "      <td>1</td>\n",
       "      <td>0.230321</td>\n",
       "      <td>0.361194</td>\n",
       "      <td>...</td>\n",
       "      <td>2</td>\n",
       "      <td>0.135849</td>\n",
       "      <td>1</td>\n",
       "      <td>0.435714</td>\n",
       "      <td>0.580952</td>\n",
       "      <td>0.1500</td>\n",
       "      <td>0.087500</td>\n",
       "      <td>0.428571</td>\n",
       "      <td>0.529412</td>\n",
       "      <td>0.552632</td>\n",
       "    </tr>\n",
       "    <tr>\n",
       "      <th>36</th>\n",
       "      <td>37</td>\n",
       "      <td>0</td>\n",
       "      <td>42</td>\n",
       "      <td>1</td>\n",
       "      <td>0</td>\n",
       "      <td>0</td>\n",
       "      <td>4</td>\n",
       "      <td>1</td>\n",
       "      <td>0.288630</td>\n",
       "      <td>0.238806</td>\n",
       "      <td>...</td>\n",
       "      <td>2</td>\n",
       "      <td>0.116981</td>\n",
       "      <td>0</td>\n",
       "      <td>0.271429</td>\n",
       "      <td>0.638095</td>\n",
       "      <td>0.1375</td>\n",
       "      <td>0.116667</td>\n",
       "      <td>0.755102</td>\n",
       "      <td>0.500000</td>\n",
       "      <td>0.473684</td>\n",
       "    </tr>\n",
       "  </tbody>\n",
       "</table>\n",
       "<p>5 rows × 24 columns</p>\n",
       "</div>"
      ],
      "text/plain": [
       "     car_ID  symboling  CarName  fueltype  aspiration  doornumber  carbody  \\\n",
       "38       39          0       41         1           0           1        2   \n",
       "64       65          0       53         1           0           0        2   \n",
       "146     147          0      110         1           0           0        4   \n",
       "96       97          1       76         1           0           0        3   \n",
       "36       37          0       42         1           0           0        4   \n",
       "\n",
       "     drivewheel  wheelbase  carlength  ...  cylindernumber  enginesize  \\\n",
       "38            1   0.288630   0.394030  ...               2    0.184906   \n",
       "64            1   0.355685   0.547761  ...               2    0.230189   \n",
       "146           1   0.303207   0.483582  ...               2    0.177358   \n",
       "96            1   0.230321   0.361194  ...               2    0.135849   \n",
       "36            1   0.288630   0.238806  ...               2    0.116981   \n",
       "\n",
       "     fuelsystem  boreratio    stroke  compressionratio  horsepower   peakrpm  \\\n",
       "38            0   0.435714  0.719048            0.1250    0.158333  0.673469   \n",
       "64            1   0.607143  0.628571            0.1000    0.150000  0.265306   \n",
       "146           1   0.771429  0.271429            0.1250    0.141667  0.265306   \n",
       "96            1   0.435714  0.580952            0.1500    0.087500  0.428571   \n",
       "36            0   0.271429  0.638095            0.1375    0.116667  0.755102   \n",
       "\n",
       "      citympg  highwaympg  \n",
       "38   0.411765    0.447368  \n",
       "64   0.382353    0.421053  \n",
       "146  0.441176    0.421053  \n",
       "96   0.529412    0.552632  \n",
       "36   0.500000    0.473684  \n",
       "\n",
       "[5 rows x 24 columns]"
      ]
     },
     "execution_count": 19,
     "metadata": {},
     "output_type": "execute_result"
    }
   ],
   "source": [
    "xtrain.head()"
   ]
  },
  {
   "cell_type": "code",
   "execution_count": 20,
   "id": "1cfb6f84",
   "metadata": {},
   "outputs": [
    {
     "name": "stdout",
     "output_type": "stream",
     "text": [
      "xtrain shape(164, 24)\n",
      "xtest shape(41, 24)\n",
      "ytrain shape(164,)\n",
      "ytest shape(41,)\n"
     ]
    }
   ],
   "source": [
    "print(f'xtrain shape{xtrain.shape}')\n",
    "print(f'xtest shape{xtest.shape}')\n",
    "print(f'ytrain shape{ytrain.shape}')\n",
    "print(f'ytest shape{ytest.shape}')"
   ]
  },
  {
   "cell_type": "markdown",
   "id": "14554194",
   "metadata": {},
   "source": [
    "# Base Model"
   ]
  },
  {
   "cell_type": "markdown",
   "id": "59042992",
   "metadata": {},
   "source": [
    "# Decision Tree Regressor"
   ]
  },
  {
   "cell_type": "code",
   "execution_count": 21,
   "id": "f0e2c7df",
   "metadata": {},
   "outputs": [],
   "source": [
    "from sklearn.tree import DecisionTreeRegressor"
   ]
  },
  {
   "cell_type": "code",
   "execution_count": 22,
   "id": "11c9e5f9",
   "metadata": {},
   "outputs": [],
   "source": [
    "dtreg=DecisionTreeRegressor()"
   ]
  },
  {
   "cell_type": "code",
   "execution_count": 23,
   "id": "4906a892",
   "metadata": {},
   "outputs": [
    {
     "data": {
      "text/plain": [
       "DecisionTreeRegressor()"
      ]
     },
     "execution_count": 23,
     "metadata": {},
     "output_type": "execute_result"
    }
   ],
   "source": [
    "dtreg.fit(xtrain,ytrain)"
   ]
  },
  {
   "cell_type": "markdown",
   "id": "2865220b",
   "metadata": {},
   "source": [
    "To predict the model we take xtest and these xtest values will be compared to ytest values that is actual values,\n",
    "\n",
    "We compare the ytest actual value of test data with ypredicted to model that has predicted the y values"
   ]
  },
  {
   "cell_type": "code",
   "execution_count": 24,
   "id": "6d8d2297",
   "metadata": {},
   "outputs": [
    {
     "data": {
      "text/html": [
       "<div>\n",
       "<style scoped>\n",
       "    .dataframe tbody tr th:only-of-type {\n",
       "        vertical-align: middle;\n",
       "    }\n",
       "\n",
       "    .dataframe tbody tr th {\n",
       "        vertical-align: top;\n",
       "    }\n",
       "\n",
       "    .dataframe thead th {\n",
       "        text-align: right;\n",
       "    }\n",
       "</style>\n",
       "<table border=\"1\" class=\"dataframe\">\n",
       "  <thead>\n",
       "    <tr style=\"text-align: right;\">\n",
       "      <th></th>\n",
       "      <th>car_ID</th>\n",
       "      <th>symboling</th>\n",
       "      <th>CarName</th>\n",
       "      <th>fueltype</th>\n",
       "      <th>aspiration</th>\n",
       "      <th>doornumber</th>\n",
       "      <th>carbody</th>\n",
       "      <th>drivewheel</th>\n",
       "      <th>wheelbase</th>\n",
       "      <th>carlength</th>\n",
       "      <th>...</th>\n",
       "      <th>cylindernumber</th>\n",
       "      <th>enginesize</th>\n",
       "      <th>fuelsystem</th>\n",
       "      <th>boreratio</th>\n",
       "      <th>stroke</th>\n",
       "      <th>compressionratio</th>\n",
       "      <th>horsepower</th>\n",
       "      <th>peakrpm</th>\n",
       "      <th>citympg</th>\n",
       "      <th>highwaympg</th>\n",
       "    </tr>\n",
       "  </thead>\n",
       "  <tbody>\n",
       "    <tr>\n",
       "      <th>200</th>\n",
       "      <td>201</td>\n",
       "      <td>-1</td>\n",
       "      <td>139</td>\n",
       "      <td>1</td>\n",
       "      <td>0</td>\n",
       "      <td>0</td>\n",
       "      <td>3</td>\n",
       "      <td>2</td>\n",
       "      <td>0.655977</td>\n",
       "      <td>0.711940</td>\n",
       "      <td>...</td>\n",
       "      <td>2</td>\n",
       "      <td>0.301887</td>\n",
       "      <td>5</td>\n",
       "      <td>0.885714</td>\n",
       "      <td>0.514286</td>\n",
       "      <td>0.15625</td>\n",
       "      <td>0.275000</td>\n",
       "      <td>0.510204</td>\n",
       "      <td>0.294118</td>\n",
       "      <td>0.315789</td>\n",
       "    </tr>\n",
       "    <tr>\n",
       "      <th>133</th>\n",
       "      <td>134</td>\n",
       "      <td>2</td>\n",
       "      <td>103</td>\n",
       "      <td>1</td>\n",
       "      <td>0</td>\n",
       "      <td>0</td>\n",
       "      <td>3</td>\n",
       "      <td>1</td>\n",
       "      <td>0.364431</td>\n",
       "      <td>0.679104</td>\n",
       "      <td>...</td>\n",
       "      <td>2</td>\n",
       "      <td>0.226415</td>\n",
       "      <td>5</td>\n",
       "      <td>0.714286</td>\n",
       "      <td>0.476190</td>\n",
       "      <td>0.14375</td>\n",
       "      <td>0.258333</td>\n",
       "      <td>0.448980</td>\n",
       "      <td>0.235294</td>\n",
       "      <td>0.315789</td>\n",
       "    </tr>\n",
       "    <tr>\n",
       "      <th>181</th>\n",
       "      <td>182</td>\n",
       "      <td>-1</td>\n",
       "      <td>128</td>\n",
       "      <td>1</td>\n",
       "      <td>0</td>\n",
       "      <td>0</td>\n",
       "      <td>4</td>\n",
       "      <td>2</td>\n",
       "      <td>0.521866</td>\n",
       "      <td>0.697015</td>\n",
       "      <td>...</td>\n",
       "      <td>3</td>\n",
       "      <td>0.377358</td>\n",
       "      <td>5</td>\n",
       "      <td>0.521429</td>\n",
       "      <td>0.609524</td>\n",
       "      <td>0.13750</td>\n",
       "      <td>0.450000</td>\n",
       "      <td>0.428571</td>\n",
       "      <td>0.176471</td>\n",
       "      <td>0.210526</td>\n",
       "    </tr>\n",
       "    <tr>\n",
       "      <th>157</th>\n",
       "      <td>158</td>\n",
       "      <td>0</td>\n",
       "      <td>116</td>\n",
       "      <td>1</td>\n",
       "      <td>0</td>\n",
       "      <td>0</td>\n",
       "      <td>2</td>\n",
       "      <td>1</td>\n",
       "      <td>0.265306</td>\n",
       "      <td>0.376119</td>\n",
       "      <td>...</td>\n",
       "      <td>2</td>\n",
       "      <td>0.139623</td>\n",
       "      <td>1</td>\n",
       "      <td>0.464286</td>\n",
       "      <td>0.457143</td>\n",
       "      <td>0.12500</td>\n",
       "      <td>0.091667</td>\n",
       "      <td>0.265306</td>\n",
       "      <td>0.500000</td>\n",
       "      <td>0.552632</td>\n",
       "    </tr>\n",
       "    <tr>\n",
       "      <th>28</th>\n",
       "      <td>29</td>\n",
       "      <td>-1</td>\n",
       "      <td>33</td>\n",
       "      <td>1</td>\n",
       "      <td>0</td>\n",
       "      <td>0</td>\n",
       "      <td>4</td>\n",
       "      <td>1</td>\n",
       "      <td>0.486880</td>\n",
       "      <td>0.500000</td>\n",
       "      <td>...</td>\n",
       "      <td>2</td>\n",
       "      <td>0.222642</td>\n",
       "      <td>1</td>\n",
       "      <td>0.571429</td>\n",
       "      <td>0.661905</td>\n",
       "      <td>0.09375</td>\n",
       "      <td>0.166667</td>\n",
       "      <td>0.346939</td>\n",
       "      <td>0.323529</td>\n",
       "      <td>0.368421</td>\n",
       "    </tr>\n",
       "  </tbody>\n",
       "</table>\n",
       "<p>5 rows × 24 columns</p>\n",
       "</div>"
      ],
      "text/plain": [
       "     car_ID  symboling  CarName  fueltype  aspiration  doornumber  carbody  \\\n",
       "200     201         -1      139         1           0           0        3   \n",
       "133     134          2      103         1           0           0        3   \n",
       "181     182         -1      128         1           0           0        4   \n",
       "157     158          0      116         1           0           0        2   \n",
       "28       29         -1       33         1           0           0        4   \n",
       "\n",
       "     drivewheel  wheelbase  carlength  ...  cylindernumber  enginesize  \\\n",
       "200           2   0.655977   0.711940  ...               2    0.301887   \n",
       "133           1   0.364431   0.679104  ...               2    0.226415   \n",
       "181           2   0.521866   0.697015  ...               3    0.377358   \n",
       "157           1   0.265306   0.376119  ...               2    0.139623   \n",
       "28            1   0.486880   0.500000  ...               2    0.222642   \n",
       "\n",
       "     fuelsystem  boreratio    stroke  compressionratio  horsepower   peakrpm  \\\n",
       "200           5   0.885714  0.514286           0.15625    0.275000  0.510204   \n",
       "133           5   0.714286  0.476190           0.14375    0.258333  0.448980   \n",
       "181           5   0.521429  0.609524           0.13750    0.450000  0.428571   \n",
       "157           1   0.464286  0.457143           0.12500    0.091667  0.265306   \n",
       "28            1   0.571429  0.661905           0.09375    0.166667  0.346939   \n",
       "\n",
       "      citympg  highwaympg  \n",
       "200  0.294118    0.315789  \n",
       "133  0.235294    0.315789  \n",
       "181  0.176471    0.210526  \n",
       "157  0.500000    0.552632  \n",
       "28   0.323529    0.368421  \n",
       "\n",
       "[5 rows x 24 columns]"
      ]
     },
     "execution_count": 24,
     "metadata": {},
     "output_type": "execute_result"
    }
   ],
   "source": [
    "ypred=dtreg.predict(xtest)\n",
    "xtest.head()"
   ]
  },
  {
   "cell_type": "markdown",
   "id": "c74f85cd",
   "metadata": {},
   "source": [
    "To determine how well the variables describe the price of a used car"
   ]
  },
  {
   "cell_type": "code",
   "execution_count": 25,
   "id": "31b8e151",
   "metadata": {},
   "outputs": [],
   "source": [
    "from sklearn.metrics import r2_score,mean_squared_error,mean_absolute_error,mean_absolute_percentage_error"
   ]
  },
  {
   "cell_type": "code",
   "execution_count": 26,
   "id": "6044fa5c",
   "metadata": {},
   "outputs": [
    {
     "data": {
      "text/plain": [
       "0.8653595695671916"
      ]
     },
     "execution_count": 26,
     "metadata": {},
     "output_type": "execute_result"
    }
   ],
   "source": [
    "r2_score(ytest,ypred)"
   ]
  },
  {
   "cell_type": "code",
   "execution_count": 27,
   "id": "ffdab9dd",
   "metadata": {},
   "outputs": [
    {
     "data": {
      "text/plain": [
       "0.005242585890056708"
      ]
     },
     "execution_count": 27,
     "metadata": {},
     "output_type": "execute_result"
    }
   ],
   "source": [
    "mean_squared_error(ytest,ypred)"
   ]
  },
  {
   "cell_type": "code",
   "execution_count": 28,
   "id": "7847b2bb",
   "metadata": {},
   "outputs": [
    {
     "data": {
      "text/plain": [
       "0.2815138137017326"
      ]
     },
     "execution_count": 28,
     "metadata": {},
     "output_type": "execute_result"
    }
   ],
   "source": [
    "mean_absolute_percentage_error(ytest,ypred)"
   ]
  },
  {
   "cell_type": "markdown",
   "id": "1d169291",
   "metadata": {},
   "source": [
    "## INFERENCE\n",
    "\n",
    "From the above result we conclude that r2_score is 86%  and Mean absolute percentage error is 28%"
   ]
  },
  {
   "cell_type": "code",
   "execution_count": 29,
   "id": "ec9b7a94",
   "metadata": {},
   "outputs": [
    {
     "data": {
      "image/png": "[encoded data removed]",
      "text/plain": [
       "<Figure size 2160x2160 with 1 Axes>"
      ]
     },
     "metadata": {
      "needs_background": "light"
     },
     "output_type": "display_data"
    }
   ],
   "source": [
    "import matplotlib.pyplot as plt\n",
    "clf = DecisionTreeRegressor(max_depth=3)\n",
    "clf.fit(xtrain,ytrain)\n",
    "from sklearn import tree\n",
    "plt.figure(figsize=(30,30))\n",
    "tree.plot_tree(clf,feature_names=list(xtrain.columns.values),class_names=['0','1'],filled=True);"
   ]
  },
  {
   "cell_type": "code",
   "execution_count": 30,
   "id": "51537168",
   "metadata": {},
   "outputs": [
    {
     "data": {
      "text/plain": [
       "enginesize          0.673618\n",
       "curbweight          0.228795\n",
       "highwaympg          0.022190\n",
       "carwidth            0.015003\n",
       "car_ID              0.013219\n",
       "compressionratio    0.010972\n",
       "CarName             0.010273\n",
       "stroke              0.005868\n",
       "boreratio           0.004822\n",
       "horsepower          0.004790\n",
       "carlength           0.004135\n",
       "carheight           0.003520\n",
       "carbody             0.001136\n",
       "citympg             0.000393\n",
       "wheelbase           0.000340\n",
       "doornumber          0.000315\n",
       "peakrpm             0.000252\n",
       "symboling           0.000231\n",
       "drivewheel          0.000109\n",
       "fuelsystem          0.000016\n",
       "enginetype          0.000003\n",
       "cylindernumber      0.000000\n",
       "aspiration          0.000000\n",
       "fueltype            0.000000\n",
       "dtype: float64"
      ]
     },
     "execution_count": 30,
     "metadata": {},
     "output_type": "execute_result"
    }
   ],
   "source": [
    "feat_imp = dtreg.feature_importances_\n",
    "pd.Series(feat_imp,index=list(xtrain.columns.values)).sort_values(ascending=False)"
   ]
  },
  {
   "cell_type": "markdown",
   "id": "a078f5af",
   "metadata": {},
   "source": [
    "# INSIGHT:\n",
    "\n",
    "From the above result we conclude that enginesize has highest feature importance and rest follows. Hence the last three columns cylindernumber, aspiration and fueltype doesn't gave important for further building , thus we these columns to make effective and accurate."
   ]
  },
  {
   "cell_type": "markdown",
   "id": "1d660eb5",
   "metadata": {},
   "source": [
    "# Gradient Boosting Regressor"
   ]
  },
  {
   "cell_type": "code",
   "execution_count": 31,
   "id": "d96703e2",
   "metadata": {},
   "outputs": [],
   "source": [
    "from sklearn.ensemble import GradientBoostingRegressor"
   ]
  },
  {
   "cell_type": "code",
   "execution_count": 32,
   "id": "3b98e54e",
   "metadata": {},
   "outputs": [],
   "source": [
    "gbr=GradientBoostingRegressor()"
   ]
  },
  {
   "cell_type": "code",
   "execution_count": 33,
   "id": "9b229f88",
   "metadata": {},
   "outputs": [
    {
     "data": {
      "text/plain": [
       "GradientBoostingRegressor()"
      ]
     },
     "execution_count": 33,
     "metadata": {},
     "output_type": "execute_result"
    }
   ],
   "source": [
    "gbr.fit(xtrain,ytrain)"
   ]
  },
  {
   "cell_type": "code",
   "execution_count": 34,
   "id": "337af100",
   "metadata": {},
   "outputs": [],
   "source": [
    "ypred=gbr.predict(xtest)"
   ]
  },
  {
   "cell_type": "markdown",
   "id": "a1682bbe",
   "metadata": {},
   "source": [
    "To determine how well the variables describe the price of a used car"
   ]
  },
  {
   "cell_type": "code",
   "execution_count": 35,
   "id": "3ec99270",
   "metadata": {},
   "outputs": [
    {
     "data": {
      "text/plain": [
       "0.955726387719001"
      ]
     },
     "execution_count": 35,
     "metadata": {},
     "output_type": "execute_result"
    }
   ],
   "source": [
    "r2_score(ytest,ypred)"
   ]
  },
  {
   "cell_type": "code",
   "execution_count": 36,
   "id": "f78845ee",
   "metadata": {},
   "outputs": [
    {
     "data": {
      "text/plain": [
       "0.0017239117128494293"
      ]
     },
     "execution_count": 36,
     "metadata": {},
     "output_type": "execute_result"
    }
   ],
   "source": [
    "mean_squared_error(ytest,ypred)"
   ]
  },
  {
   "cell_type": "code",
   "execution_count": 37,
   "id": "2c0ad3ba",
   "metadata": {},
   "outputs": [
    {
     "data": {
      "text/plain": [
       "0.24571085199902204"
      ]
     },
     "execution_count": 37,
     "metadata": {},
     "output_type": "execute_result"
    }
   ],
   "source": [
    "mean_absolute_percentage_error(ytest,ypred)"
   ]
  },
  {
   "cell_type": "markdown",
   "id": "da5f0199",
   "metadata": {},
   "source": [
    "# INFERENCE\n",
    "\n",
    "From the above result we conclude that r2_score of gradientboostingregressor is 95% and meanabsolute percentage error is 24%"
   ]
  },
  {
   "cell_type": "markdown",
   "id": "7ef6e67f",
   "metadata": {},
   "source": [
    "# HYPERPARAMETER TUNING - RandomizedSearchCV alogorithm for choosing best parameter which gives highest score."
   ]
  },
  {
   "cell_type": "code",
   "execution_count": 38,
   "id": "6107b09b",
   "metadata": {},
   "outputs": [],
   "source": [
    "from sklearn.model_selection import GridSearchCV,RandomizedSearchCV"
   ]
  },
  {
   "cell_type": "code",
   "execution_count": 39,
   "id": "f284cb7b",
   "metadata": {},
   "outputs": [],
   "source": [
    "mod=RandomizedSearchCV(gbr,{'n_estimators':[i for i in range(100,250,10)],'learning_rate':[0.1,0.2,0.3,0.4,0.5],'max_depth':range(3,12)},cv=15)"
   ]
  },
  {
   "cell_type": "code",
   "execution_count": 40,
   "id": "27b74e8c",
   "metadata": {},
   "outputs": [
    {
     "data": {
      "text/plain": [
       "RandomizedSearchCV(cv=15, estimator=GradientBoostingRegressor(),\n",
       "                   param_distributions={'learning_rate': [0.1, 0.2, 0.3, 0.4,\n",
       "                                                          0.5],\n",
       "                                        'max_depth': range(3, 12),\n",
       "                                        'n_estimators': [100, 110, 120, 130,\n",
       "                                                         140, 150, 160, 170,\n",
       "                                                         180, 190, 200, 210,\n",
       "                                                         220, 230, 240]})"
      ]
     },
     "execution_count": 40,
     "metadata": {},
     "output_type": "execute_result"
    }
   ],
   "source": [
    "mod.fit(xtrain,ytrain)"
   ]
  },
  {
   "cell_type": "code",
   "execution_count": 41,
   "id": "4415f5f6",
   "metadata": {},
   "outputs": [
    {
     "data": {
      "text/plain": [
       "0.8854090039561814"
      ]
     },
     "execution_count": 41,
     "metadata": {},
     "output_type": "execute_result"
    }
   ],
   "source": [
    "mod.best_score_"
   ]
  },
  {
   "cell_type": "code",
   "execution_count": 42,
   "id": "2f78c30e",
   "metadata": {},
   "outputs": [
    {
     "data": {
      "text/plain": [
       "{'n_estimators': 190, 'max_depth': 3, 'learning_rate': 0.2}"
      ]
     },
     "execution_count": 42,
     "metadata": {},
     "output_type": "execute_result"
    }
   ],
   "source": [
    "mod.best_params_"
   ]
  },
  {
   "cell_type": "code",
   "execution_count": 43,
   "id": "a60753b0",
   "metadata": {},
   "outputs": [],
   "source": [
    "ypred1=mod.predict(xtest)"
   ]
  },
  {
   "cell_type": "markdown",
   "id": "395f717a",
   "metadata": {},
   "source": [
    "To determine how well the variables describe the price of a used car"
   ]
  },
  {
   "cell_type": "code",
   "execution_count": 55,
   "id": "4905ba3e",
   "metadata": {},
   "outputs": [
    {
     "data": {
      "text/plain": [
       "0.9528010706846886"
      ]
     },
     "execution_count": 55,
     "metadata": {},
     "output_type": "execute_result"
    }
   ],
   "source": [
    "r2_score(ytest,ypred1)"
   ]
  },
  {
   "cell_type": "code",
   "execution_count": 56,
   "id": "ee240bcf",
   "metadata": {},
   "outputs": [
    {
     "data": {
      "text/plain": [
       "0.0018378167691444033"
      ]
     },
     "execution_count": 56,
     "metadata": {},
     "output_type": "execute_result"
    }
   ],
   "source": [
    "mean_squared_error(ytest,ypred1)"
   ]
  },
  {
   "cell_type": "code",
   "execution_count": 57,
   "id": "91911330",
   "metadata": {},
   "outputs": [
    {
     "data": {
      "text/plain": [
       "0.2645176758553896"
      ]
     },
     "execution_count": 57,
     "metadata": {},
     "output_type": "execute_result"
    }
   ],
   "source": [
    "mean_absolute_percentage_error(ytest,ypred1)"
   ]
  },
  {
   "cell_type": "markdown",
   "id": "c1c44a70",
   "metadata": {},
   "source": [
    "# INFERENCE\n",
    "\n",
    "From this result we conclude that r2_score of randomized search cv is 95% and mean absolute percentage error of 26%"
   ]
  },
  {
   "cell_type": "markdown",
   "id": "6bcda6a2",
   "metadata": {},
   "source": [
    "# ADABOOST REGRESSOR - to build the decision tree with 1 depth"
   ]
  },
  {
   "cell_type": "code",
   "execution_count": 58,
   "id": "46bacf1e",
   "metadata": {},
   "outputs": [],
   "source": [
    "from sklearn.ensemble import AdaBoostRegressor"
   ]
  },
  {
   "cell_type": "code",
   "execution_count": 59,
   "id": "8ae94036",
   "metadata": {},
   "outputs": [],
   "source": [
    "abr=AdaBoostRegressor(n_estimators=100)"
   ]
  },
  {
   "cell_type": "code",
   "execution_count": 60,
   "id": "93e3ef4a",
   "metadata": {},
   "outputs": [
    {
     "data": {
      "text/plain": [
       "AdaBoostRegressor(n_estimators=100)"
      ]
     },
     "execution_count": 60,
     "metadata": {},
     "output_type": "execute_result"
    }
   ],
   "source": [
    "abr.fit(xtrain,ytrain)"
   ]
  },
  {
   "cell_type": "code",
   "execution_count": 61,
   "id": "b5d10546",
   "metadata": {},
   "outputs": [],
   "source": [
    "ypred_abr=abr.predict(xtest)"
   ]
  },
  {
   "cell_type": "markdown",
   "id": "4aa0d969",
   "metadata": {},
   "source": [
    "To determine how well the variables describe the price of a used car"
   ]
  },
  {
   "cell_type": "code",
   "execution_count": 62,
   "id": "e74ade84",
   "metadata": {},
   "outputs": [
    {
     "data": {
      "text/plain": [
       "0.942604490363766"
      ]
     },
     "execution_count": 62,
     "metadata": {},
     "output_type": "execute_result"
    }
   ],
   "source": [
    "r2_score(ytest,ypred_abr)"
   ]
  },
  {
   "cell_type": "code",
   "execution_count": 63,
   "id": "d840e328",
   "metadata": {},
   "outputs": [
    {
     "data": {
      "text/plain": [
       "0.0022348479428079167"
      ]
     },
     "execution_count": 63,
     "metadata": {},
     "output_type": "execute_result"
    }
   ],
   "source": [
    "mean_squared_error(ytest,ypred_abr)"
   ]
  },
  {
   "cell_type": "code",
   "execution_count": 64,
   "id": "bb476270",
   "metadata": {},
   "outputs": [
    {
     "data": {
      "text/plain": [
       "0.44271555692885717"
      ]
     },
     "execution_count": 64,
     "metadata": {},
     "output_type": "execute_result"
    }
   ],
   "source": [
    "mean_absolute_percentage_error(ytest,ypred_abr)"
   ]
  },
  {
   "cell_type": "markdown",
   "id": "6a5601ec",
   "metadata": {},
   "source": [
    "# INFERENCE \n",
    "\n",
    "From the above result we conclude that the Adaboost has the r2_score of 94% and mean absolute percentage error of 44%"
   ]
  },
  {
   "cell_type": "markdown",
   "id": "64adfbb4",
   "metadata": {},
   "source": [
    "# OVERALL INFERENCE\n",
    "\n",
    "a)From the above results Enginesize(67%), curbweight(22%), highwaympg(22%), carwidth(15%), car_ID(13%), compressionratio and CarName has (10%) these are the variables that are significant in predicting the price of a used car can be identified through feature selection techniques such as correlation analysis, feature importance, and recursive feature elimination. \n",
    "\n",
    "b)Gradient Boosting regressor has highest r2_score and mean absolute percentage error is less.From feature importance column Enginesize plays major role in model prediction which is 67% that described from the price of \n",
    "the used cars.\n",
    "\n",
    "To determine how well the variables describe the price of a used car, such as \n",
    "\n",
    "1)R-squared-95%, \n",
    "\n",
    "2)mean absolute error (MAE)-0.001, and \n",
    "\n",
    "3)mean squared error (MSE)-24% is the performance of the regression model.\n",
    "\n"
   ]
  },
  {
   "cell_type": "code",
   "execution_count": null,
   "id": "eed051b1",
   "metadata": {},
   "outputs": [],
   "source": []
  }
 ],
 "metadata": {
  "kernelspec": {
   "display_name": "Python 3 (ipykernel)",
   "language": "python",
   "name": "python3"
  },
  "language_info": {
   "codemirror_mode": {
    "name": "ipython",
    "version": 3
   },
   "file_extension": ".py",
   "mimetype": "text/x-python",
   "name": "python",
   "nbconvert_exporter": "python",
   "pygments_lexer": "ipython3",
   "version": "3.9.12"
  }
 },
 "nbformat": 4,
 "nbformat_minor": 5
}
